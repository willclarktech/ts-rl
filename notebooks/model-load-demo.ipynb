{
 "cells": [
  {
   "cell_type": "code",
   "execution_count": 1,
   "metadata": {},
   "outputs": [],
   "source": [
    "import gym\n",
    "from IPython.display import clear_output\n",
    "import numpy as np\n",
    "import tensorflow as tf\n",
    "from time import sleep"
   ]
  },
  {
   "cell_type": "code",
   "execution_count": 2,
   "metadata": {},
   "outputs": [],
   "source": [
    "model = tf.saved_model.load(\"../models/DQN-CartPole-q-network-converted\")"
   ]
  },
  {
   "cell_type": "code",
   "execution_count": 3,
   "metadata": {},
   "outputs": [],
   "source": [
    "class DQN():\n",
    "    def __init__(self, model):\n",
    "        self.neural_network = model\n",
    "\n",
    "    def act(self, observation):\n",
    "        output = self.neural_network(tf.constant([observation], dtype=tf.float32))\n",
    "        return np.argmax(output, -1)[0]"
   ]
  },
  {
   "cell_type": "code",
   "execution_count": 4,
   "metadata": {},
   "outputs": [],
   "source": [
    "def run_episode(env, agent):\n",
    "    observation = env.reset()\n",
    "    rewards = []\n",
    "    done = False\n",
    "    steps = 0\n",
    "    \n",
    "    while not done:\n",
    "        steps += 1\n",
    "        env.render()\n",
    "        sleep(0.01)\n",
    "\n",
    "        action = agent.act([*observation, 0])\n",
    "        observation, reward, done, _ = env.step(action)\n",
    "        rewards.append(reward)\n",
    "    \n",
    "    return sum(rewards)"
   ]
  },
  {
   "cell_type": "code",
   "execution_count": 5,
   "metadata": {},
   "outputs": [],
   "source": [
    "environment = gym.make(\"CartPole-v1\")\n",
    "# environment.seed(seed)\n",
    "winning_score = 195\n",
    "\n",
    "learner = DQN(model)"
   ]
  },
  {
   "cell_type": "code",
   "execution_count": 6,
   "metadata": {},
   "outputs": [],
   "source": [
    "for i in range(5):\n",
    "    run_episode(environment, learner)\n",
    "\n",
    "environment.close()"
   ]
  },
  {
   "cell_type": "code",
   "execution_count": null,
   "metadata": {},
   "outputs": [],
   "source": []
  }
 ],
 "metadata": {
  "kernelspec": {
   "display_name": "Python 3",
   "language": "python",
   "name": "python3"
  },
  "language_info": {
   "codemirror_mode": {
    "name": "ipython",
    "version": 3
   },
   "file_extension": ".py",
   "mimetype": "text/x-python",
   "name": "python",
   "nbconvert_exporter": "python",
   "pygments_lexer": "ipython3",
   "version": "3.8.3"
  }
 },
 "nbformat": 4,
 "nbformat_minor": 4
}
